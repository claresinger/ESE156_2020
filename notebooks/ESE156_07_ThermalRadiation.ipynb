{
 "cells": [
  {
   "cell_type": "markdown",
   "metadata": {},
   "source": [
    "# Thermal Radiation\n",
    "#### ESE156 2020,  7th notebook, Christian Frankenberg "
   ]
  },
  {
   "cell_type": "code",
   "execution_count": null,
   "metadata": {},
   "outputs": [],
   "source": [
    "# Use our tools (you might need to add packages, see file)\n",
    "include(\"../scripts/ese156_tools.jl\")"
   ]
  },
  {
   "cell_type": "markdown",
   "metadata": {},
   "source": [
    "---\n",
    "#### Define file and lat/lon"
   ]
  },
  {
   "cell_type": "code",
   "execution_count": null,
   "metadata": {},
   "outputs": [],
   "source": [
    "# To change things up, choose lat/lon of your birthplace (or any place you like!)\n",
    "file_folder = \"files\"\n",
    "# Locate articafts, see https://julialang.github.io/Pkg.jl/v1/artifacts/\n",
    "file = joinpath(file_folder, \"MERRA300.prod.assim.inst6_3d_ana_Nv.20150613.hdf.nc4\")\n",
    "timeIndex = 2 # There is 00, 06, 12 and 18 in UTC, i.e. 6 hourly data stacked together\n",
    "\n",
    "# What latitude do we want?\n",
    "myLat = 50.642;\n",
    "myLon = 7.226;"
   ]
  },
  {
   "cell_type": "code",
   "execution_count": null,
   "metadata": {},
   "outputs": [],
   "source": [
    "# Read profile (and generate dry/wet VCDs per layer)\n",
    "profile = read_atmos_profile(file, myLat, myLon, timeIndex);"
   ]
  },
  {
   "cell_type": "markdown",
   "metadata": {},
   "source": [
    "---\n",
    "#### Define HITRAN parameters"
   ]
  },
  {
   "cell_type": "code",
   "execution_count": null,
   "metadata": {},
   "outputs": [],
   "source": [
    "# Minimum wavenumber\n",
    "ν_min  = 200.0\n",
    "# Maximum wavenumber\n",
    "ν_xmax = 2000.0\n",
    "\n",
    "co2_par = CrossSection.read_hitran(joinpath(file_folder, \"hitran_molec_id_2_CO2.par\"), mol=2, iso=1, ν_min=ν_min, ν_max=ν_xmax);\n",
    "ch4_par = CrossSection.read_hitran(joinpath(file_folder, \"hitran_molec_id_6_CH4.par\"), mol=6, iso=1, ν_min=ν_min, ν_max=ν_xmax);\n",
    "h2o_par = CrossSection.read_hitran(joinpath(file_folder, \"hitran_molec_id_1_H2O.par\"), mol=1, iso=1, ν_min=ν_min, ν_max=ν_xmax);"
   ]
  },
  {
   "cell_type": "code",
   "execution_count": null,
   "metadata": {},
   "outputs": [],
   "source": [
    "co2_voigt   = make_hitran_model(co2_par, Voigt(), wing_cutoff=10)\n",
    "h2o_voigt   = make_hitran_model(h2o_par, Voigt(), wing_cutoff=10)\n",
    "ch4_voigt   = make_hitran_model(ch4_par, Voigt(), wing_cutoff=10)\n",
    "\n",
    "hitran_array = [co2_voigt, h2o_voigt, ch4_voigt];"
   ]
  },
  {
   "cell_type": "markdown",
   "metadata": {},
   "source": [
    "---\n",
    "#### Define model resolution and compute all cross sections for profile"
   ]
  },
  {
   "cell_type": "code",
   "execution_count": null,
   "metadata": {},
   "outputs": [],
   "source": [
    "res = 0.01\n",
    "ν = 200:res:2000\n",
    "σ_matrix = compute_profile_crossSections(profile, hitran_array , ν);"
   ]
  },
  {
   "cell_type": "code",
   "execution_count": null,
   "metadata": {},
   "outputs": [],
   "source": [
    "# Reduce dimensions, group layers together to get roughly layers of equal pressure difference:\n",
    "n_layers = 20\n",
    "profile_red, σ_matrix_red = reduce_profile(n_layers, profile, σ_matrix);"
   ]
  },
  {
   "cell_type": "code",
   "execution_count": null,
   "metadata": {},
   "outputs": [],
   "source": [
    "i = 2; j = 20;\n",
    "plot(1e4./ν,σ_matrix[:,j,i].+1e-90, yscale=:log10,alpha=0.8, lw=2,label=\"H₂O\")\n",
    "i = 1;\n",
    "plot!(1e4./ν,σ_matrix[:,j,i].+1e-90, yscale=:log10, alpha=0.6,lw=2,label=\"CO₂\")\n",
    "i = 3; \n",
    "plot!(1e4./ν,σ_matrix[:,j,i].+1e-90, yscale=:log10, alpha=0.4,lw=2,label=\"CH₄\")\n",
    "ylims!(1e-35, 1e-15)\n",
    "xlabel!(\"Wavelength (μm)\")\n",
    "ylabel!(\"Cross Section (cm²)\")"
   ]
  },
  {
   "cell_type": "code",
   "execution_count": null,
   "metadata": {},
   "outputs": [],
   "source": [
    "# Define concentration profile:\n",
    "nL = length(profile_red.T)\n",
    "vmr_co2 = zeros(nL) .+ 400e-6\n",
    "vmr_ch4 = zeros(nL) .+ 2e-6\n",
    "vmr_h2o = profile_red.vcd_h2o ./ profile_red.vcd_dry\n",
    "vmrs = [vmr_co2, vmr_h2o, vmr_ch4 ];\n",
    "@show nL"
   ]
  },
  {
   "cell_type": "markdown",
   "metadata": {},
   "source": [
    "---\n",
    "### Define Instrument models:"
   ]
  },
  {
   "cell_type": "code",
   "execution_count": null,
   "metadata": {},
   "outputs": [],
   "source": [
    "# Define an Instrument, TCCON specs\n",
    "FWHM = 0.2  # 0.2cm-1 resolution\n",
    "Δν = 0.05\n",
    "satellite = KernelInstrument(gaussian_kernel(FWHM, res), collect(minimum(ν)+2FWHM:Δν:maximum(ν)-2FWHM));"
   ]
  },
  {
   "cell_type": "markdown",
   "metadata": {},
   "source": [
    "### Planck Curve\n",
    "Here, we need to define the blackbody radiation as a function of wavelength and Temperature. The equation for total outgoing radiance as a function of wavelength wavelength would be\n",
    "$$B_\\lambda(T)\\mathrm{d}\\lambda = \\frac{2 h c^2}{\\lambda^5}\\frac{1}{e^{\\frac{hc}{\\lambda k_BT}}-1}\\mathrm{d}\\lambda\\,$$\n",
    "with $k_B$ being the Boltzmann constant, $h$ the Planck constant, and c the speed of light. Here, $B_\\lambda(T)$ is described in terms of the power (W) emitted per unit area of the body, per unit solid angle (sr) that the radiation is measured over, per unit frequency (in SI unit of meters here, we will need to convert to get to nm or $\\mu$m). For the sun, we will want to look at the total radiation emitted at the sun's surface, for which we just have to integrate across all solid angles in one hemisphere, effectively mulitplying by $\\pi$.  \n",
    "\n",
    "Similarly, if we are looking at solar irradiance at the top of the Earth's atmosphere, we need to take the distance between the sun and the earth into account. We do so by computing the ratio of the sphere area with radius of sun-earth distance (1AU) and the surface area of the sun. The radius of the sun is about 695,700km. The distance between the centers of sun and earth is 1 Astronomical Unit (AU), i.e. 149,597,870.7km. The ratio of the distances (sun center to sun surface vs sun center to earth surface) is thus (149597870.7-6300)/695700=215.02. Thus, we have to divide the solar irradiance at the sun's surface by 215.02$^2$ to get to the fluxes at the extended distance. The conversion factor is about 2.1629e-05. \n",
    "___________\n",
    " First, we need to actually define the Planck function. "
   ]
  },
  {
   "cell_type": "code",
   "execution_count": null,
   "metadata": {},
   "outputs": [],
   "source": [
    "# Some constants and the planck function (as radiance!)\n",
    "function planck(wav, T)\n",
    "    h = 6.626e-34\n",
    "    c = 299792458\n",
    "    k = 1.38e-23\n",
    "    c1 = 2h*c^2\n",
    "    c2 = h*c/(wav*k*T)\n",
    "    intensity = c1/ ( (wav^5)*(exp(c2) - 1.0) )\n",
    "    # Convert to W/sr/m^2/µm here directly (it was W/sr/m^2/m)\n",
    "    return intensity*1.0e-6\n",
    "end"
   ]
  },
  {
   "cell_type": "code",
   "execution_count": null,
   "metadata": {},
   "outputs": [],
   "source": [
    "# Define a wavelengths grid (equation demands SI unit of meters).\n",
    "wl = (1e7*1e-9)./collect(ν[1:100:end]);\n",
    "plot(wl*1e6, planck.(wl,280), label=\"Planck Curve\",lw=2)\n",
    "ylabel!(\"Radiance (W/sr/m²/μm)\")\n",
    "xlabel!(\"Wavelength (μm)\")"
   ]
  },
  {
   "cell_type": "markdown",
   "metadata": {},
   "source": [
    "---\n",
    "### Define a simplified Forward model:"
   ]
  },
  {
   "cell_type": "code",
   "execution_count": null,
   "metadata": {},
   "outputs": [],
   "source": [
    "function forward_model_thermal(vmrs, σ_matrix, profile, albedo, Tsurf, μ, ν)\n",
    "    nProfile = length(profile.T)\n",
    "    nSpec    = size(σ_matrix,1)\n",
    "    nGas     = length(vmrs)\n",
    "    \n",
    "    # wavelength in meter\n",
    "    wl = (1e7*1e-9)./collect(ν)\n",
    "    \n",
    "    # Total sum of τ\n",
    "    ∑τ       = zeros(nSpec,nProfile)\n",
    "    \n",
    "    # Planck Source function\n",
    "    S        = zeros(nSpec,nProfile)\n",
    "    \n",
    "    # Layer boundary up and down fluxes:\n",
    "    rad_down = zeros(nSpec,nProfile+1)\n",
    "    rad_up   = zeros(nSpec,nProfile+1)\n",
    "    \n",
    "    # Planck Source per layer:\n",
    "    for i=1:nProfile\n",
    "        S[:,i] = planck.(wl,profile.T[i])\n",
    "    end\n",
    "    \n",
    "    # sum up total layer τ:\n",
    "    for i=1:nGas,j=1:nProfile\n",
    "        ∑τ[:,j] .+= σ_matrix[:,j,i] .* (vmrs[i][j] .* profile.vcd_dry[j])'\n",
    "    end\n",
    "    \n",
    "    # Transmission per layer\n",
    "    T = exp.(-∑τ/μ)\n",
    "    \n",
    "    # Atmosphere from top to bottom:\n",
    "    for i=1:nProfile\n",
    "        rad_down[:,i+1] = rad_down[:,i].*T[:,i] .+ (1 .-T[:,i]).*S[:,i]\n",
    "    end\n",
    "    \n",
    "    # Upward flux at surface:\n",
    "    rad_up[:,end] = (1-albedo)*planck.(wl,Tsurf) .+ rad_down[:,end]*albedo\n",
    "    \n",
    "    # Atmosphere from bottom to top\n",
    "    for i=nProfile:-1:1\n",
    "        rad_up[:,i] = rad_up[:,i+1].*T[:,i] .+ (1 .-T[:,i]) .* S[:,i]\n",
    "    end\n",
    "    \n",
    "    return T, rad_down, rad_up\n",
    "end"
   ]
  },
  {
   "cell_type": "code",
   "execution_count": null,
   "metadata": {},
   "outputs": [],
   "source": []
  },
  {
   "cell_type": "code",
   "execution_count": null,
   "metadata": {},
   "outputs": [],
   "source": [
    "@time T, rad_down, rad_up = forward_model_thermal(vmrs,σ_matrix_red, profile_red, 0.05, 280.0, 1.0, ν);"
   ]
  },
  {
   "cell_type": "code",
   "execution_count": null,
   "metadata": {},
   "outputs": [],
   "source": [
    "plot(1e4./ν, prod(T,dims=2),lw=2)\n",
    "ylabel!(\"Total Atmosphere Transmission\")\n",
    "xlabel!(\"Wavelength (μm)\")"
   ]
  },
  {
   "cell_type": "code",
   "execution_count": null,
   "metadata": {},
   "outputs": [],
   "source": [
    "plot(1e4./ν, rad_up[:,1],lw=2 )\n",
    "ylabel!(\"Radiance (W/sr/m²/μm)\")\n",
    "xlabel!(\"Wavelength (μm)\")"
   ]
  },
  {
   "cell_type": "code",
   "execution_count": null,
   "metadata": {},
   "outputs": [],
   "source": [
    "plot(1e4./ν, rad_down[:,end],lw=2 )\n",
    "ylabel!(\"Radiance (W/sr/m²/μm)\")\n",
    "xlabel!(\"Wavelength (μm)\")"
   ]
  },
  {
   "cell_type": "code",
   "execution_count": null,
   "metadata": {},
   "outputs": [],
   "source": [
    "heatmap(ν, profile_red.p_levels, rad_down', yflip=true)\n",
    "xlabel!(\"Wavenumber (cm⁻¹)\")\n",
    "ylabel!(\"pressure (Pa)\")\n",
    "title!(\"Downwelling radiation\")"
   ]
  },
  {
   "cell_type": "code",
   "execution_count": null,
   "metadata": {},
   "outputs": [],
   "source": [
    "heatmap(ν, profile_red.p_levels, rad_up', yflip=true)\n",
    "xlabel!(\"Wavenumber (cm⁻¹)\")\n",
    "ylabel!(\"pressure (Pa)\")\n",
    "title!(\"Downwelling radiation\")"
   ]
  },
  {
   "cell_type": "code",
   "execution_count": null,
   "metadata": {},
   "outputs": [],
   "source": [
    "heatmap(ν, profile_red.p, T', yflip=true)\n",
    "xlabel!(\"Wavenumber (cm⁻¹)\")\n",
    "ylabel!(\"Transmission\")"
   ]
  },
  {
   "cell_type": "code",
   "execution_count": null,
   "metadata": {},
   "outputs": [],
   "source": []
  }
 ],
 "metadata": {
  "@webio": {
   "lastCommId": null,
   "lastKernelId": null
  },
  "kernelspec": {
   "display_name": "Julia 1.5.2",
   "language": "julia",
   "name": "julia-1.5"
  },
  "language_info": {
   "file_extension": ".jl",
   "mimetype": "application/julia",
   "name": "julia",
   "version": "1.5.2"
  }
 },
 "nbformat": 4,
 "nbformat_minor": 4
}
